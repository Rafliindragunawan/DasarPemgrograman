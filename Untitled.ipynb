{
 "cells": [
  {
   "cell_type": "markdown",
   "id": "e0406e8a",
   "metadata": {},
   "source": [
    "<h1>Variabel dan Tipe Data</h1><hr>\n",
    "Tipe Data pada Python adalah:\n",
    "<ol>\n",
    "    <li>Float  - (float)</li>\n",
    "    <li>String - (str)</li>\n",
    "    <li>Boolean - (bool)</li>\n",
    "    <li>Integer - (int)</li>\n",
    " </ol><hr>\n",
    " Aturan Penamaan Variabel:\n",
    " <ul>\n",
    "    <li>Tidak boleh menggunakan spasi</li>\n",
    "    <li>Bersifat case sensitive=> A != a</li>\n",
    "    <li>Terdiri dari huruf, angka dan karakter _ (underscore)</li>\n",
    "    <li>Diawali underscore atau huruf</li>\n",
    "    <li>Tidak boleh menggunakan reserved keyword</li>\n",
    " </ul>   "
   ]
  },
  {
   "cell_type": "code",
   "execution_count": null,
   "id": "b61c1fae",
   "metadata": {},
   "outputs": [],
   "source": [
    "data_integer = 100\n",
    "data_float = 50.6\n",
    "data_string = \"1\"\n",
    "data_boolean = True\n",
    "\n",
    "data_string\n",
    "print(data_integer)\n",
    "print(data_float)\n",
    "print(data_string)\n",
    "print(data_boolean)"
   ]
  },
  {
   "cell_type": "code",
   "execution_count": 9,
   "id": "541a40d9",
   "metadata": {},
   "outputs": [
    {
     "name": "stdout",
     "output_type": "stream",
     "text": [
      "<class 'int'>\n",
      "<class 'float'>\n",
      "<class 'str'>\n",
      "<class 'bool'>\n"
     ]
    }
   ],
   "source": [
    "print(type(data_integer))\n",
    "print(type(data_float))\n",
    "print(type(data_string))\n",
    "print(type(data_boolean))"
   ]
  },
  {
   "cell_type": "markdown",
   "id": "35c7ccd9",
   "metadata": {},
   "source": [
    "<h3>Konversi Tipe Data dari Integer ke (String,Float,Boolean)</h3>"
   ]
  },
  {
   "cell_type": "code",
   "execution_count": 1,
   "id": "2cbd98f3",
   "metadata": {},
   "outputs": [
    {
     "name": "stdout",
     "output_type": "stream",
     "text": [
      "Isikan Bilangan 1:1\n",
      "Isikan Bilangan 2:23\n",
      "123\n"
     ]
    }
   ],
   "source": [
    "bil1 = input(\"Isikan Bilangan 1:\")\n",
    "bil2 = input(\"Isikan Bilangan 2:\")\n",
    "hasil = bil1 + bil2\n",
    "print(hasil)"
   ]
  },
  {
   "cell_type": "code",
   "execution_count": 11,
   "id": "e7472b42",
   "metadata": {},
   "outputs": [
    {
     "ename": "NameError",
     "evalue": "name 'data_string' is not defined",
     "output_type": "error",
     "traceback": [
      "\u001b[1;31m---------------------------------------------------------------------------\u001b[0m",
      "\u001b[1;31mNameError\u001b[0m                                 Traceback (most recent call last)",
      "Input \u001b[1;32mIn [11]\u001b[0m, in \u001b[0;36m<cell line: 1>\u001b[1;34m()\u001b[0m\n\u001b[1;32m----> 1\u001b[0m string_to_float \u001b[38;5;241m=\u001b[39m \u001b[38;5;28mfloat\u001b[39m(\u001b[43mdata_string\u001b[49m)\n\u001b[0;32m      2\u001b[0m int_to_float \u001b[38;5;241m=\u001b[39m \u001b[38;5;28mfloat\u001b[39m(data_int)\n\u001b[0;32m      3\u001b[0m bool_to_float \u001b[38;5;241m=\u001b[39m \u001b[38;5;28mfloat\u001b[39m(data_boolean)\n",
      "\u001b[1;31mNameError\u001b[0m: name 'data_string' is not defined"
     ]
    }
   ],
   "source": [
    "string_to_float = float(data_string)\n",
    "int_to_float = float(data_int)\n",
    "bool_to_float = float(data_boolean)\n",
    "\n",
    "print(string_to_flaot)\n",
    "print(int_to_float)\n",
    "print(bool_to_float)\n",
    "\n",
    "print(type(string_to_float))\n",
    "print(type(int_to_float))\n",
    "print(type(bool_to_float))"
   ]
  },
  {
   "cell_type": "code",
   "execution_count": null,
   "id": "b845473b",
   "metadata": {},
   "outputs": [],
   "source": []
  }
 ],
 "metadata": {
  "kernelspec": {
   "display_name": "Python 3 (ipykernel)",
   "language": "python",
   "name": "python3"
  },
  "language_info": {
   "codemirror_mode": {
    "name": "ipython",
    "version": 3
   },
   "file_extension": ".py",
   "mimetype": "text/x-python",
   "name": "python",
   "nbconvert_exporter": "python",
   "pygments_lexer": "ipython3",
   "version": "3.9.12"
  }
 },
 "nbformat": 4,
 "nbformat_minor": 5
}
